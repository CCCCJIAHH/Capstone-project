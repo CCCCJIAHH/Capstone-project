{
 "cells": [
  {
   "cell_type": "code",
   "execution_count": null,
   "metadata": {},
   "outputs": [],
   "source": [
    "#can do the face extraction\n",
    "import cv2\n",
    "import os\n",
    "from PIL import Image\n",
    "from mtcnn import MTCNN\n",
    "import numpy as np\n",
    "\n",
    "detector = MTCNN()\n",
    "img1 = cv2.cvtColor(cv2.imread(\"E:/cjh/CNN/admm/final/4_1.png\"), cv2.COLOR_BGR2RGB)\n",
    "result = detector.detect_faces(img1)\n",
    "bounding1=[ ]\n",
    "\n",
    "bounding1.append(result[0]['box'])\n",
    "\n",
    "cut=img1[bounding1[0][1]:(bounding1[0][1]+bounding1[0][3]),bounding1[0][0]:(bounding1[0][0]+bounding1[0][2])]\n",
    "\n",
    "print (cut.shape)\n",
    "  \n",
    "\n",
    "\n"
   ]
  }
 ],
 "metadata": {
  "kernelspec": {
   "display_name": "Python 3",
   "language": "python",
   "name": "python3"
  },
  "language_info": {
   "codemirror_mode": {
    "name": "ipython",
    "version": 3
   },
   "file_extension": ".py",
   "mimetype": "text/x-python",
   "name": "python",
   "nbconvert_exporter": "python",
   "pygments_lexer": "ipython3",
   "version": "3.7.9"
  }
 },
 "nbformat": 4,
 "nbformat_minor": 4
}
